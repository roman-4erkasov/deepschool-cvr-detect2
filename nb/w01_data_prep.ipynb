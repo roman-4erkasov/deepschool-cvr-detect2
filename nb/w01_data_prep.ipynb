{
 "cells": [
  {
   "cell_type": "code",
   "execution_count": 1,
   "id": "295f2f9b-1e5f-4c05-9b80-920fb94f7870",
   "metadata": {},
   "outputs": [
    {
     "name": "stderr",
     "output_type": "stream",
     "text": [
      "YOLOv5 🚀 2023-6-16 Python-3.8.16 torch-2.0.1+cu117 CPU\n"
     ]
    },
    {
     "name": "stdout",
     "output_type": "stream",
     "text": [
      "Setup complete ✅ (10 CPUs, 29.4 GB RAM, 244.3/246.0 GB disk)\n"
     ]
    }
   ],
   "source": [
    "import sys\n",
    "sys.path.append(\"../yolov5-dev/\")\n",
    "import re\n",
    "import os\n",
    "import torch\n",
    "import utils\n",
    "import shutil\n",
    "import pandas as pd\n",
    "import yaml\n",
    "from PIL import Image\n",
    "\n",
    "display = utils.notebook_init()  # checks\n"
   ]
  },
  {
   "cell_type": "code",
   "execution_count": 2,
   "id": "4e79ecbb-6712-48d8-b07e-6491ca02b01b",
   "metadata": {},
   "outputs": [],
   "source": [
    "def resolve_envs(loader, node):\n",
    "    pattern=\"(?<=\\$\\{env:)\\w+?(?=\\})\"\n",
    "    value = loader.construct_scalar(node)\n",
    "    match = re.findall(pattern=pattern, string=value)\n",
    "    if match:\n",
    "        result = value\n",
    "        for g in match:\n",
    "            result = result.replace(\n",
    "                f'${{env:{g}}}',\n",
    "                os.environ.get(g, g)\n",
    "            )\n",
    "        return result\n",
    "    return value\n",
    "\n",
    "def get_env_loader(loader=yaml.SafeLoader,tag='!ENV'):\n",
    "    \"\"\"\n",
    "    Returns yaml loader that can resolve environment variables\n",
    "    \"\"\"\n",
    "    pattern = re.compile(\".*?\\$\\{env:\\w+\\}.*?\")\n",
    "    loader.add_implicit_resolver(tag, pattern, None)\n",
    "    loader.add_constructor(tag, resolve_envs)\n",
    "    return loader"
   ]
  },
  {
   "cell_type": "code",
   "execution_count": 3,
   "id": "7a428946-fc5e-4360-9f26-969dfb64558c",
   "metadata": {},
   "outputs": [
    {
     "data": {
      "text/plain": [
       "{'images_orig': '/home/fatuus/data/goods-barcodes/images/',\n",
       " 'images_train': '/home/fatuus/data/goods-barcodes/train_img/',\n",
       " 'images_val': '/home/fatuus/data/goods-barcodes/val_img/',\n",
       " 'images_test': '/home/fatuus/data/goods-barcodes/test_img/',\n",
       " 'images_mini': '/home/fatuus/data/goods-barcodes/mini_img/'}"
      ]
     },
     "execution_count": 3,
     "metadata": {},
     "output_type": "execute_result"
    }
   ],
   "source": [
    "with open(\"../data_prep.yml\") as fp:\n",
    "    config = yaml.load(fp, Loader=get_env_loader(),)\n",
    "\n",
    "config"
   ]
  },
  {
   "cell_type": "code",
   "execution_count": 10,
   "id": "a2623404-41f1-46cb-80f7-45e0ccc99ea0",
   "metadata": {
    "scrolled": true
   },
   "outputs": [],
   "source": [
    "def create_fold(source_dir, target_dir, df):\n",
    "    if not os.path.exists(target_dir):\n",
    "        os.mkdir(target_dir)\n",
    "    for index, row in df.iterrows():\n",
    "        name, _ = os.path.splitext(row[\"filename\"])\n",
    "        source_image_path = os.path.join(source_dir, row[\"filename\"])\n",
    "        target_image_path = os.path.join(target_dir,row[\"filename\"])\n",
    "        target_ann_path = os.path.join(target_dir,f\"{name}.txt\")\n",
    "        x1, y1 = eval(row[\"p1\"])\n",
    "        x2, y2 = eval(row[\"p2\"])\n",
    "        x_min, x_max = sorted([x1, x2])\n",
    "        y_min, y_max = sorted([y1, y2])\n",
    "        w = x_max - x_min\n",
    "        h = y_max - y_min\n",
    "        xc = (x_min+x_max)/2\n",
    "        yc = (y_min+y_max)/2\n",
    "        image = Image.open(\n",
    "            os.path.join(config[\"images_orig\"],row[\"filename\"])\n",
    "        )\n",
    "        size = image.size\n",
    "        with open(target_ann_path, \"w\") as fp:\n",
    "            # fp.write(f\"0 {x1/size[0]} {y1/size[1]} {w/size[0]} {h/size[1]}\")\n",
    "            fp.write(f\"0 {yc/size[0]} {xc/size[1]} {h/size[0]} {w/size[1]}\")\n",
    "        shutil.copyfile(source_image_path, target_image_path)\n",
    "\n",
    "\n",
    "d_train = pd.read_csv(\"../annotation/train.tsv\", sep=\"\\t\")\n",
    "d_val = pd.read_csv(\"../annotation/val.tsv\", sep=\"\\t\")\n",
    "d_test = pd.read_csv(\"../annotation/test.tsv\", sep=\"\\t\")\n",
    "\n",
    "create_fold(\n",
    "    source_dir=config[\"images_orig\"], \n",
    "    target_dir=config[\"images_train\"], \n",
    "    df=d_train,\n",
    ")\n",
    "create_fold(\n",
    "    source_dir=config[\"images_orig\"], \n",
    "    target_dir=config[\"images_val\"], \n",
    "    df=d_val,\n",
    ")\n",
    "create_fold(\n",
    "    source_dir=config[\"images_orig\"], \n",
    "    target_dir=config[\"images_test\"], \n",
    "    df=d_test\n",
    ")\n",
    "create_fold(\n",
    "    source_dir=config[\"images_orig\"], \n",
    "    target_dir=config[\"images_mini\"], \n",
    "    df=d_train.loc[:5],\n",
    ")"
   ]
  },
  {
   "cell_type": "code",
   "execution_count": null,
   "id": "40f3fa3b-ac64-45c5-9c9b-c494a21124dc",
   "metadata": {},
   "outputs": [],
   "source": []
  },
  {
   "cell_type": "code",
   "execution_count": null,
   "id": "ca79e0b2-90e9-40a9-8b53-99242216ceb8",
   "metadata": {},
   "outputs": [],
   "source": []
  }
 ],
 "metadata": {
  "kernelspec": {
   "display_name": "Python 3 (ipykernel)",
   "language": "python",
   "name": "python3"
  },
  "language_info": {
   "codemirror_mode": {
    "name": "ipython",
    "version": 3
   },
   "file_extension": ".py",
   "mimetype": "text/x-python",
   "name": "python",
   "nbconvert_exporter": "python",
   "pygments_lexer": "ipython3",
   "version": "3.8.16"
  }
 },
 "nbformat": 4,
 "nbformat_minor": 5
}
